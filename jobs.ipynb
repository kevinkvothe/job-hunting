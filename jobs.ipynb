{
 "cells": [
  {
   "cell_type": "markdown",
   "id": "2f38545e-403a-487b-b04c-f6e580a3b5f9",
   "metadata": {},
   "source": [
    "Job hunting analysis"
   ]
  },
  {
   "cell_type": "code",
   "execution_count": 1,
   "id": "41f26bab-8e2c-4595-a7ab-4bb3a5305189",
   "metadata": {},
   "outputs": [],
   "source": [
    "import pandas as pd\n",
    "import json\n",
    "from matplotlib import pyplot as plt"
   ]
  },
  {
   "cell_type": "code",
   "execution_count": 2,
   "id": "628d4607-5dcd-4e3f-9b80-74d843040e78",
   "metadata": {},
   "outputs": [],
   "source": [
    "with open('result.json', 'r') as f:\n",
    "    result = json.load(f)"
   ]
  },
  {
   "cell_type": "code",
   "execution_count": 3,
   "id": "c48836c7-9867-46c8-bcfb-216ab1ab9829",
   "metadata": {},
   "outputs": [
    {
     "data": {
      "text/plain": [
       "4"
      ]
     },
     "execution_count": 3,
     "metadata": {},
     "output_type": "execute_result"
    }
   ],
   "source": [
    "len(result)"
   ]
  },
  {
   "cell_type": "code",
   "execution_count": 4,
   "id": "78cac98f",
   "metadata": {},
   "outputs": [
    {
     "data": {
      "text/plain": [
       "dict_keys(['name', 'type', 'id', 'messages'])"
      ]
     },
     "execution_count": 4,
     "metadata": {},
     "output_type": "execute_result"
    }
   ],
   "source": [
    "result.keys()"
   ]
  },
  {
   "cell_type": "code",
   "execution_count": 5,
   "id": "e66c0b8c-540a-4c87-8207-69ebb114424d",
   "metadata": {},
   "outputs": [],
   "source": [
    "messages = [message['text_entities'] for message in result['messages']]\n",
    "lengths = [len(i) for i in messages]"
   ]
  },
  {
   "cell_type": "code",
   "execution_count": 7,
   "id": "44df0f4d-4428-46b0-8580-b134a7efed89",
   "metadata": {},
   "outputs": [
    {
     "data": {
      "image/png": "[encoded data removed]",
      "text/plain": [
       "<Figure size 640x480 with 1 Axes>"
      ]
     },
     "metadata": {},
     "output_type": "display_data"
    }
   ],
   "source": [
    "commutes = pd.Series(lengths)\n",
    "\n",
    "commutes.plot.hist(grid=True, bins=20, rwidth=0.9,\n",
    "                   color='#607c8e')\n",
    "plt.title('Text items')\n",
    "plt.xlabel('Number of items')\n",
    "plt.ylabel('Items')\n",
    "plt.grid(axis='y', alpha=0.75)"
   ]
  },
  {
   "cell_type": "code",
   "execution_count": 8,
   "id": "020a63db-a645-486c-b18f-d33e3ff0fa47",
   "metadata": {},
   "outputs": [],
   "source": [
    "not_10_messages = [i for i in messages if len(i) != 10]"
   ]
  },
  {
   "cell_type": "code",
   "execution_count": 34,
   "id": "49b2fbdd",
   "metadata": {},
   "outputs": [],
   "source": [
    "# Select longest text in messages not containing 'http'\n",
    "\n",
    "# Get only text fields\n",
    "# Get only text fields\n",
    "messages_text = [\n",
    "    [m['text'] for m in i if 'text' in m.keys()] for i in messages if len(i) > 0\n",
    "]\n",
    "\n",
    "job_desc = pd.Series(messages_text).apply(lambda t: max([i for i in t if 'http' not in i], key=len))\n"
   ]
  },
  {
   "cell_type": "code",
   "execution_count": 54,
   "id": "16dd460b",
   "metadata": {},
   "outputs": [
    {
     "data": {
      "text/plain": [
       "['Data Scientist- Opción a teletrabajo',\n",
       " '\\n\\n¿Estás buscando nuevos horizontes y retos profesionales?\\n\\nLa innovación es el alma de OpenSistemas. Es la clave principal de nuestros proyectos de tecnología con los que ...\\n\\n',\n",
       " 'Open Sistemas',\n",
       " '\\n',\n",
       " 'Madrid',\n",
       " ' (Spain) \\n\\n',\n",
       " '36000 € - 45000 €',\n",
       " '\\n\\n',\n",
       " 'https://notificajobs.com/offers/63e12f26eca45b007662d994?utm_source=telegram&utm_campaign=Big%20Data',\n",
       " '']"
      ]
     },
     "execution_count": 54,
     "metadata": {},
     "output_type": "execute_result"
    }
   ],
   "source": [
    "messages_text[-1]"
   ]
  },
  {
   "cell_type": "code",
   "execution_count": 53,
   "id": "d8f74c0b",
   "metadata": {},
   "outputs": [
    {
     "name": "stdout",
     "output_type": "stream",
     "text": [
      "\n",
      "\n",
      "¿Estás buscando nuevos horizontes y retos profesionales?\n",
      "\n",
      "La innovación es el alma de OpenSistemas. Es la clave principal de nuestros proyectos de tecnología con los que ...\n",
      "\n",
      "\n"
     ]
    }
   ],
   "source": [
    "print(job_desc.tolist()[-1])"
   ]
  },
  {
   "cell_type": "code",
   "execution_count": null,
   "id": "b9b1eb7b",
   "metadata": {},
   "outputs": [],
   "source": []
  },
  {
   "cell_type": "code",
   "execution_count": null,
   "id": "9e53fb3c",
   "metadata": {},
   "outputs": [],
   "source": []
  },
  {
   "cell_type": "code",
   "execution_count": null,
   "id": "596eb128",
   "metadata": {},
   "outputs": [],
   "source": []
  },
  {
   "cell_type": "code",
   "execution_count": null,
   "id": "e432b188",
   "metadata": {},
   "outputs": [],
   "source": []
  },
  {
   "cell_type": "code",
   "execution_count": null,
   "id": "04cb2b1c",
   "metadata": {},
   "outputs": [],
   "source": []
  },
  {
   "cell_type": "code",
   "execution_count": null,
   "id": "3be62a1b",
   "metadata": {},
   "outputs": [],
   "source": []
  },
  {
   "cell_type": "code",
   "execution_count": null,
   "id": "cc4cd308-aac9-48dc-9e1a-5bcf79f944a1",
   "metadata": {},
   "outputs": [],
   "source": []
  }
 ],
 "metadata": {
  "kernelspec": {
   "display_name": "jobs_env",
   "language": "python",
   "name": "python3"
  },
  "language_info": {
   "codemirror_mode": {
    "name": "ipython",
    "version": 3
   },
   "file_extension": ".py",
   "mimetype": "text/x-python",
   "name": "python",
   "nbconvert_exporter": "python",
   "pygments_lexer": "ipython3",
   "version": "3.10.6"
  },
  "vscode": {
   "interpreter": {
    "hash": "8c4c051497b2bfcc45fb32021b8d19cae368069ba7e17b3378b5332ef00abb02"
   }
  }
 },
 "nbformat": 4,
 "nbformat_minor": 5
}
